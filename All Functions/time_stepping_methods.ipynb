{
 "cells": [
  {
   "cell_type": "code",
   "execution_count": 1,
   "metadata": {},
   "outputs": [],
   "source": [
    "import numpy as np"
   ]
  },
  {
   "cell_type": "code",
   "execution_count": 79,
   "metadata": {},
   "outputs": [],
   "source": [
    "def euler(x,x0,y0,f,n=1,*args): # n = number of steps between x0 and x\n",
    "    h = (x-x0)/n\n",
    "    x,y = x0,y0\n",
    "    for i in range(n):\n",
    "        y = y + h*f(x,y,*args)\n",
    "        x += h\n",
    "    return y\n",
    "            \n",
    "def modified_euler(x,x0,y0,f,n=1,*args): # n = number of steps between x0 and x\n",
    "    h = (x-x0)/n\n",
    "    x,y = x0,y0\n",
    "    for i in range(n):\n",
    "        y_m = y + 0.5*h*f(x,y,*args)\n",
    "        x_m = x + 0.5*h\n",
    "        y = y + h*f(x_m,y_m,*args)\n",
    "        x += h\n",
    "    return y\n",
    "\n",
    "def improved_euler(x,x0,y0,f,n=1,*args): # n = number of steps between x0 and x\n",
    "    h = (x-x0)/n\n",
    "    x,y = x0,y0\n",
    "    for i in range(n):\n",
    "        y_n = f(x,y,*args)\n",
    "        y = y + 0.5*h*(y_n + f(x+h,y+(h*y_n),*args))\n",
    "        x += h\n",
    "    return y\n",
    "\n",
    "def rk4(x,x0,y0,f,n=1,*args): # n = number of steps between x0 and x\n",
    "    h = (x-x0)/n\n",
    "    x,y = x0,y0\n",
    "    for i in range(n):\n",
    "        f0 = f(x,y,*args)\n",
    "        f1 = f( x+(0.5*h), y + (0.5*h*f0) ,*args)\n",
    "        f2 = f( x+(0.5*h), y + (0.5*h*f1) ,*args)\n",
    "        f3 = f( x+h, y + h*f2 ,*args)\n",
    "        y = y + (h/6.0)*(f0 + 2*f1 + 2*f2 + f3)\n",
    "        x += h\n",
    "    return y\n",
    "\n",
    "def time_stepping_method(x,x0,y0,f,a,b,c,d,n=1,*args): # general function\n",
    "    h = (x-x0)/n\n",
    "    x,y = x0,y0\n",
    "    for i in range(n):\n",
    "        y_n = f(x,y,*args)\n",
    "        y = y + h*(a*y_n + b*f(x+c*h,y+d*(h*y_n),*args))\n",
    "        x += h\n",
    "    return y"
   ]
  },
  {
   "cell_type": "code",
   "execution_count": 80,
   "metadata": {},
   "outputs": [
    {
     "name": "stdout",
     "output_type": "stream",
     "text": [
      "0.41724099961758154 0.45969769413186023 0.04245669451427869\n",
      "0.45988929071851814 0.45969769413186023 0.00019159658665790502\n",
      "0.4593145488579763 0.45969769413186023 0.0003831452738839447\n",
      "0.45969771009833754 0.45969769413186023 1.596647730695011e-08\n",
      "True\n"
     ]
    }
   ],
   "source": [
    "f = lambda x,y: np.sin(x)\n",
    "F = lambda x: 1-np.cos(x)\n",
    "n = 10\n",
    "y_euler = euler(1,0,0,f,n)\n",
    "y_m_euler = modified_euler(1,0,0,f,n)\n",
    "y_i_euler = improved_euler(1,0,0,f,n)\n",
    "y_rk4 = rk4(1,0,0,f,n)\n",
    "y_ts = time_stepping_method(1,0,0,f,0.5,0.5,1,1,n)\n",
    "print(y_euler,F(1),np.abs(y_euler-F(1)))\n",
    "print(y_m_euler,F(1),np.abs(y_m_euler-F(1)))\n",
    "print(y_i_euler,F(1),np.abs(y_i_euler-F(1)))\n",
    "print(y_rk4,F(1),np.abs(y_rk4-F(1)))\n",
    "print(np.allclose(y_ts,y_i_euler))"
   ]
  },
  {
   "cell_type": "code",
   "execution_count": 83,
   "metadata": {},
   "outputs": [],
   "source": [
    "def euler2(x,x0,y0,z0,fy,fz,n=1,*args):\n",
    "    h = (x-x0)/n\n",
    "    x = [x0,x0]\n",
    "    y = [y0,y0]\n",
    "    z = [z0,z0]\n",
    "    for i in range(n):\n",
    "        x[(i+1)%2] = x[i%2]+h\n",
    "        z[(i+1)%2] = euler(x[(i+1)%2],x[i%2],z[i%2],fz,1,y[i%2],*args)\n",
    "        y[(i+1)%2] = euler(x[(i+1)%2],x[i%2],y[i%2],fy,1,z[i%2],*args)\n",
    "    return y[(i+1)%2]\n",
    "\n",
    "def modified_euler2(x,x0,y0,z0,fy,fz,n=1,*args):\n",
    "    h = (x-x0)/n\n",
    "    x = [x0,x0]\n",
    "    y = [y0,y0]\n",
    "    z = [z0,z0]\n",
    "    for i in range(n):\n",
    "        x[(i+1)%2] = x[i%2]+h\n",
    "        z[(i+1)%2] = modified_euler(x[(i+1)%2],x[i%2],z[i%2],fz,1,y[i%2],*args)\n",
    "        y[(i+1)%2] = modified_euler(x[(i+1)%2],x[i%2],y[i%2],fy,1,z[i%2],*args)\n",
    "    return y[(i+1)%2]\n",
    "\n",
    "def improved_euler2(x,x0,y0,z0,fy,fz,n=1,*args):\n",
    "    h = (x-x0)/n\n",
    "    x = [x0,x0]\n",
    "    y = [y0,y0]\n",
    "    z = [z0,z0]\n",
    "    for i in range(n):\n",
    "        x[(i+1)%2] = x[i%2]+h\n",
    "        z[(i+1)%2] = improved_euler(x[(i+1)%2],x[i%2],z[i%2],fz,1,y[i%2],*args)\n",
    "        y[(i+1)%2] = improved_euler(x[(i+1)%2],x[i%2],y[i%2],fy,1,z[i%2],*args)\n",
    "    return y[(i+1)%2]\n",
    "\n",
    "def rk42(x,x0,y0,z0,fy,fz,n=1,*args):\n",
    "    h = (x-x0)/n\n",
    "    x = [x0,x0]\n",
    "    y = [y0,y0]\n",
    "    z = [z0,z0]\n",
    "    for i in range(n):\n",
    "        x[(i+1)%2] = x[i%2]+h\n",
    "        z[(i+1)%2] = rk4(x[(i+1)%2],x[i%2],z[i%2],fz,1,y[i%2],*args)\n",
    "        y[(i+1)%2] = rk4(x[(i+1)%2],x[i%2],y[i%2],fy,1,z[i%2],*args)\n",
    "    return y[(i+1)%2]\n",
    "\n",
    "def time_stepping_method2(x,x0,y0,z0,fy,fz,a,b,c,d,n=1,*args):\n",
    "    h = (x-x0)/n\n",
    "    x = [x0,x0]\n",
    "    y = [y0,y0]\n",
    "    z = [z0,z0]\n",
    "    for i in range(n):\n",
    "        x[(i+1)%2] = x[i%2]+h\n",
    "        z[(i+1)%2] = time_stepping_method(x[(i+1)%2],x[i%2],z[i%2],fz,a,b,c,d,1,y[i%2],*args)\n",
    "        y[(i+1)%2] = time_stepping_method(x[(i+1)%2],x[i%2],y[i%2],fy,a,b,c,d,1,z[i%2],*args)\n",
    "    return y[(i+1)%2]\n"
   ]
  },
  {
   "cell_type": "code",
   "execution_count": 82,
   "metadata": {},
   "outputs": [
    {
     "name": "stdout",
     "output_type": "stream",
     "text": [
      "1.4394187220653878 1.4678538061125574 0.028435084047169656\n",
      "1.4373900928493062 1.4678538061125574 0.030463713263251258\n",
      "1.4373900928493062 1.4678538061125574 0.030463713263251258\n",
      "1.4373968406957747 1.4678538061125574 0.030456965416782777\n",
      "True\n"
     ]
    }
   ],
   "source": [
    "# 2nd order ODE\n",
    "fy = lambda x,y,z: z\n",
    "fz = lambda x,z,y: 6*y - z\n",
    "F = lambda x: 0.2*(np.exp(2*x)-np.exp(-3*x))\n",
    "\n",
    "n = 100\n",
    "y_euler2 = euler2(1,0,0,1,fy,fz,n)\n",
    "y_m_euler2 = modified_euler2(1,0,0,1,fy,fz,n)\n",
    "y_i_euler2 = improved_euler2(1,0,0,1,fy,fz,n)\n",
    "y_rk42 = rk42(1,0,0,1,fy,fz,n)\n",
    "y_ts2 = time_stepping_method2(1,0,0,1,fy,fz,0.5,0.5,1,1,n)\n",
    "print(y_euler2,F(1),np.abs(y_euler2-F(1)))\n",
    "print(y_m_euler2,F(1),np.abs(y_m_euler2-F(1)))\n",
    "print(y_i_euler2,F(1),np.abs(y_i_euler2-F(1)))\n",
    "print(y_rk42, F(1), np.abs(y_rk42-F(1)))\n",
    "print(np.allclose(y_ts2,y_i_euler2))"
   ]
  },
  {
   "cell_type": "code",
   "execution_count": 87,
   "metadata": {},
   "outputs": [
    {
     "name": "stdout",
     "output_type": "stream",
     "text": [
      "2.450558622797181\n",
      "2.4624515103342963\n",
      "2.462378376352422\n",
      "2.462303763688685\n",
      "True\n"
     ]
    }
   ],
   "source": [
    "# 2nd order ODE\n",
    "fy = lambda x,y,z: z\n",
    "fz = lambda x,z,y: np.sin(x*y) - z\n",
    "\n",
    "n = 32\n",
    "y_euler2 = euler2(1,0,1,2,fy,fz,n)\n",
    "y_m_euler2 = modified_euler2(1,0,1,2,fy,fz,n)\n",
    "y_i_euler2 = improved_euler2(1,0,1,2,fy,fz,n)\n",
    "y_rk42 = rk42(1,0,1,2,fy,fz,n)\n",
    "y_ts2 = time_stepping_method2(1,0,1,2,fy,fz,0.5,0.5,1,1,n)\n",
    "print(y_euler2)\n",
    "print(y_m_euler2)\n",
    "print(y_i_euler2)\n",
    "print(y_rk42)\n",
    "print(np.allclose(y_ts2,y_i_euler2))"
   ]
  }
 ],
 "metadata": {
  "kernelspec": {
   "display_name": "Python 3",
   "language": "python",
   "name": "python3"
  },
  "language_info": {
   "codemirror_mode": {
    "name": "ipython",
    "version": 3
   },
   "file_extension": ".py",
   "mimetype": "text/x-python",
   "name": "python",
   "nbconvert_exporter": "python",
   "pygments_lexer": "ipython3",
   "version": "3.6.9"
  }
 },
 "nbformat": 4,
 "nbformat_minor": 4
}
